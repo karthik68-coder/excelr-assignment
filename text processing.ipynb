{
 "cells": [
  {
   "cell_type": "code",
   "execution_count": 1,
   "id": "3f99b42d-4c77-493a-8c8e-3e462cc8f79c",
   "metadata": {},
   "outputs": [],
   "source": [
    "def remove_punc(input_text):\n",
    "    punctuation_marks = ['.',',','!','?','/','(',')','[',']','\"']\n",
    "    output_text = \"\"\n",
    "    for char in input_text:\n",
    "        if char not in punctuation_marks:\n",
    "            output_text += char\n",
    "    return output_text"
   ]
  },
  {
   "cell_type": "code",
   "execution_count": 2,
   "id": "aa5f8a70-b7e6-451c-806a-94378b4632c1",
   "metadata": {},
   "outputs": [
    {
     "data": {
      "text/plain": [
       "'Hello How are you'"
      ]
     },
     "execution_count": 2,
     "metadata": {},
     "output_type": "execute_result"
    }
   ],
   "source": [
    "remove_punc('''Hello!, \"How are you?\"''')"
   ]
  },
  {
   "cell_type": "code",
   "execution_count": 22,
   "id": "acd47ed5-76dc-4c3f-837b-e75fe839ff83",
   "metadata": {},
   "outputs": [],
   "source": [
    "def remove_stopwords(input_text):\n",
    "    stop_words = [\"a\",\"an\",\"it\",\"they\",\"he\",\"she\",\"for\",\"of\",\"is\",\"to\"]\n",
    "    words = input_text.split()\n",
    "    filtered_words = []\n",
    "    for words in words:\n",
    "        if words.lower() not in stop_words:\n",
    "            filtered_words.append(words)\n",
    "            output_text = ' '.join(filtered_words)\n",
    "    return (output_text)"
   ]
  },
  {
   "cell_type": "code",
   "execution_count": 23,
   "id": "e8e97ccb-949c-4f2e-9ab7-fca15c80e8a0",
   "metadata": {},
   "outputs": [
    {
     "data": {
      "text/plain": [
       "'going play cricket'"
      ]
     },
     "execution_count": 23,
     "metadata": {},
     "output_type": "execute_result"
    }
   ],
   "source": [
    "remove_stopwords(\"he is going to play cricket\")"
   ]
  },
  {
   "cell_type": "code",
   "execution_count": null,
   "id": "707ee168-358b-4361-9f18-edb9cd6ff2d8",
   "metadata": {},
   "outputs": [],
   "source": []
  }
 ],
 "metadata": {
  "kernelspec": {
   "display_name": "Python 3 (ipykernel)",
   "language": "python",
   "name": "python3"
  },
  "language_info": {
   "codemirror_mode": {
    "name": "ipython",
    "version": 3
   },
   "file_extension": ".py",
   "mimetype": "text/x-python",
   "name": "python",
   "nbconvert_exporter": "python",
   "pygments_lexer": "ipython3",
   "version": "3.12.7"
  }
 },
 "nbformat": 4,
 "nbformat_minor": 5
}
